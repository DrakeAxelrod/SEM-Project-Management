{
 "cells": [
  {
   "cell_type": "markdown",
   "metadata": {},
   "source": [
    "# Weekly Plan"
   ]
  },
  {
   "cell_type": "code",
   "execution_count": 4,
   "metadata": {},
   "outputs": [
    {
     "data": {
      "text/markdown": [
       "# Availability [2022-03-22 to 2022-03-27]\n",
       "\n",
       "|time|monday|tuesday|wednesday|thursday|friday|\n",
       "|-|-|-|-|-|-|\n",
       "|08:00|Drake, Anna, Gustav, Vernita||Drake, Anna, Gustav, Vernita|||\n",
       "|09:00|Drake, Anna, Gustav, Vernita|||||\n",
       "|10:00|Drake, Anna, Gustav, Vernita||Drake, Anna, Gustav, Vernita|||\n",
       "|11:00|Drake, Anna, Gustav, Vernita|||||\n",
       "|12:00|Drake, Anna, Gustav, Vernita|||||\n",
       "|13:00|Drake, Anna, Gustav, Vernita|||||\n",
       "|14:00|Drake, Anna, Gustav, Vernita|||Drake, Anna, Gustav, Vernita||\n",
       "|15:00|Drake, Anna, Gustav, Vernita|||||\n",
       "|16:00|Drake, Anna, Gustav, Vernita|||||\n",
       "|17:00|Drake, Anna, Gustav, Vernita|Drake, Anna, Gustav, Vernita||||\n",
       "|18:00|Drake, Anna, Gustav, Vernita|||||\n",
       "|19:00|Drake, Anna, Gustav, Vernita|||||\n",
       "|20:00|Drake, Anna, Gustav, Vernita|||||\n"
      ],
      "text/plain": [
       "<IPython.core.display.Markdown object>"
      ]
     },
     "execution_count": 4,
     "metadata": {},
     "output_type": "execute_result"
    }
   ],
   "source": [
    "\n",
    "from index import wig\n",
    "wig.render()"
   ]
  },
  {
   "cell_type": "markdown",
   "metadata": {},
   "source": [
    "## Agenda\n",
    "\n",
    "- item\n",
    "- item\n",
    "- item"
   ]
  }
 ],
 "metadata": {
  "interpreter": {
   "hash": "e7370f93d1d0cde622a1f8e1c04877d8463912d04d973331ad4851f04de6915a"
  },
  "kernelspec": {
   "display_name": "Python 3.10.2 64-bit",
   "language": "python",
   "name": "python3"
  },
  "language_info": {
   "codemirror_mode": {
    "name": "ipython",
    "version": 3
   },
   "file_extension": ".py",
   "mimetype": "text/x-python",
   "name": "python",
   "nbconvert_exporter": "python",
   "pygments_lexer": "ipython3",
   "version": "3.10.2"
  },
  "orig_nbformat": 4
 },
 "nbformat": 4,
 "nbformat_minor": 2
}
