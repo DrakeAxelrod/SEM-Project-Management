{
 "cells": [
  {
   "cell_type": "markdown",
   "metadata": {},
   "source": [
    "# Weekly Plan"
   ]
  },
  {
   "cell_type": "code",
   "execution_count": 2,
   "metadata": {},
   "outputs": [
    {
     "data": {
      "text/markdown": [
       "# Week -> [2022-03-22 to 2022-03-27]\n",
       "## Availability\n",
       "\n",
       "|time|monday|tuesday|wednesday|thursday|friday|\n",
       "|-|-|-|-|-|-|\n",
       "|08:00|Drake, Anna, Gustav, Vernita||Drake, Anna, Gustav, Vernita|||\n",
       "|09:00|Drake, Anna, Gustav, Vernita|||||\n",
       "|10:00|Drake, Anna, Gustav, Vernita||Drake, Anna, Gustav, Vernita|||\n",
       "|11:00|Drake, Anna, Gustav, Vernita|||||\n",
       "|12:00|Drake, Anna, Gustav, Vernita|||||\n",
       "|13:00|Drake, Anna, Gustav, Vernita|||||\n",
       "|14:00|Drake, Anna, Gustav, Vernita|||Drake, Anna, Gustav, Vernita||\n",
       "|15:00|Drake, Anna, Gustav, Vernita|||||\n",
       "|16:00|Drake, Anna, Gustav, Vernita|||||\n",
       "|17:00|Drake, Anna, Gustav, Vernita|Drake, Anna, Gustav, Vernita||||\n",
       "|18:00|Drake, Anna, Gustav, Vernita|||||\n",
       "|19:00|Drake, Anna, Gustav, Vernita|||||\n",
       "|20:00|Drake, Anna, Gustav, Vernita|||||\n",
       "\n",
       "## Agenda\n",
       "### Monday \n",
       "1. Agenda Item\n",
       "2. Agenda Item\n",
       "### Tuesday \n",
       "1. Agenda Item\n",
       "2. Agenda Item\n",
       "### Wednesday \n",
       "1. Agenda Item\n",
       "2. Agenda Item\n",
       "### Thursday \n",
       "1. Agenda Item\n",
       "2. Agenda Item\n",
       "### Friday \n",
       "1. Agenda Item\n",
       "2. Agenda Item\n",
       "\n"
      ],
      "text/plain": [
       "<IPython.core.display.Markdown object>"
      ]
     },
     "execution_count": 2,
     "metadata": {},
     "output_type": "execute_result"
    }
   ],
   "source": [
    "from scripts.Plan import Plan\n",
    "\n",
    "\n",
    "plan = Plan(\"[2022-03-22 to 2022-03-27]\")\n",
    "\n",
    "# wig = WhenIsGood(\"[2022-03-22 to 2022-03-27]\")\n",
    "\n",
    "# drake\n",
    "drake = \"Drake\"\n",
    "plan.wig.monday(drake, [8, 9, 10, 11, 12, 13, 14, 15, 16, 17, 18, 19, 20])\n",
    "plan.wig.tuesday(drake, [17])\n",
    "plan.wig.wednesday(drake, [8, 10])\n",
    "plan.wig.thursday(drake, [14])\n",
    "plan.wig.friday(drake, [])\n",
    "\n",
    "# anna\n",
    "anna = \"Anna\"\n",
    "plan.wig.monday(anna, [8, 9, 10, 11, 12, 13, 14, 15, 16, 17, 18, 19, 20])\n",
    "plan.wig.tuesday(anna, [17])\n",
    "plan.wig.wednesday(anna, [8, 10])\n",
    "plan.wig.thursday(anna, [14])\n",
    "plan.wig.friday(anna, [])\n",
    "\n",
    "# gustav\n",
    "gustav = \"Gustav\"\n",
    "plan.wig.monday(gustav, [8, 9, 10, 11, 12, 13, 14, 15, 16, 17, 18, 19, 20])\n",
    "plan.wig.tuesday(gustav, [17])\n",
    "plan.wig.wednesday(gustav, [8, 10])\n",
    "plan.wig.thursday(gustav, [14])\n",
    "plan.wig.friday(gustav, [])\n",
    "\n",
    "# vernita\n",
    "vernita = \"Vernita\"\n",
    "plan.wig.monday(vernita, [8, 9, 10, 11, 12, 13, 14, 15, 16, 17, 18, 19, 20])\n",
    "plan.wig.tuesday(vernita, [17])\n",
    "plan.wig.wednesday(vernita, [8, 10])\n",
    "plan.wig.thursday(vernita, [14])\n",
    "plan.wig.friday(vernita, [])\n",
    "\n",
    "\n",
    "plan.agenda.monday(\"Agenda Item\")\n",
    "plan.agenda.monday(\"Agenda Item\")\n",
    "\n",
    "plan.agenda.tuesday(\"Agenda Item\")\n",
    "plan.agenda.tuesday(\"Agenda Item\")\n",
    "\n",
    "plan.agenda.wednesday(\"Agenda Item\")\n",
    "plan.agenda.wednesday(\"Agenda Item\")\n",
    "\n",
    "plan.agenda.thursday(\"Agenda Item\")\n",
    "plan.agenda.thursday(\"Agenda Item\")\n",
    "\n",
    "plan.agenda.friday(\"Agenda Item\")\n",
    "plan.agenda.friday(\"Agenda Item\")\n",
    "\n",
    "\n",
    "\n",
    "plan.render()\n",
    "# plan.create_md()"
   ]
  }
 ],
 "metadata": {
  "interpreter": {
   "hash": "e7370f93d1d0cde622a1f8e1c04877d8463912d04d973331ad4851f04de6915a"
  },
  "kernelspec": {
   "display_name": "Python 3.10.2 64-bit",
   "language": "python",
   "name": "python3"
  },
  "language_info": {
   "codemirror_mode": {
    "name": "ipython",
    "version": 3
   },
   "file_extension": ".py",
   "mimetype": "text/x-python",
   "name": "python",
   "nbconvert_exporter": "python",
   "pygments_lexer": "ipython3",
   "version": "3.10.2"
  },
  "orig_nbformat": 4
 },
 "nbformat": 4,
 "nbformat_minor": 2
}
