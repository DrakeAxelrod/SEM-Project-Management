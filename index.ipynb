{
 "cells": [
  {
   "cell_type": "code",
   "execution_count": 3,
   "metadata": {},
   "outputs": [],
   "source": [
    "\n",
    "from scripts.WhenIsGood import WhenIsGood\n",
    "wig = WhenIsGood()"
   ]
  },
  {
   "cell_type": "markdown",
   "metadata": {},
   "source": [
    "## Meeting Availability"
   ]
  },
  {
   "cell_type": "code",
   "execution_count": 4,
   "metadata": {},
   "outputs": [
    {
     "data": {
      "text/markdown": [
       "|time|monday|tuesday|wednesday|thursday|friday|\n",
       "|-|-|-|-|-|-|\n",
       "|08:00| drake || drake |||\n",
       "|09:00| drake |||||\n",
       "|10:00| drake || drake |||\n",
       "|11:00| drake |||||\n",
       "|12:00| drake |||||\n",
       "|13:00| drake |||||\n",
       "|14:00| drake ||| drake ||\n",
       "|15:00| drake |||||\n",
       "|16:00| drake |||||\n",
       "|17:00| drake | drake ||||\n",
       "|18:00| drake |||||\n",
       "|19:00| drake |||||\n",
       "|20:00| drake |||||\n"
      ],
      "text/plain": [
       "<IPython.core.display.Markdown object>"
      ]
     },
     "execution_count": 4,
     "metadata": {},
     "output_type": "execute_result"
    }
   ],
   "source": [
    "# drake\n",
    "wig.monday(\"drake\", [8, 9, 10, 11, 12, 13, 14, 15, 16, 17, 18, 19, 20])\n",
    "wig.tuesday(\"drake\", [17])\n",
    "wig.wednesday(\"drake\", [8, 10])\n",
    "wig.thursday(\"drake\", [14])\n",
    "wig.friday(\"drake\", [])\n",
    "\n",
    "wig.render()"
   ]
  }
 ],
 "metadata": {
  "interpreter": {
   "hash": "e7370f93d1d0cde622a1f8e1c04877d8463912d04d973331ad4851f04de6915a"
  },
  "kernelspec": {
   "display_name": "Python 3.10.2 64-bit",
   "language": "python",
   "name": "python3"
  },
  "language_info": {
   "codemirror_mode": {
    "name": "ipython",
    "version": 3
   },
   "file_extension": ".py",
   "mimetype": "text/x-python",
   "name": "python",
   "nbconvert_exporter": "python",
   "pygments_lexer": "ipython3",
   "version": "3.10.2"
  },
  "orig_nbformat": 4
 },
 "nbformat": 4,
 "nbformat_minor": 2
}
