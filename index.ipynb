{
 "cells": [
  {
   "cell_type": "markdown",
   "metadata": {},
   "source": [
    "# Weekly Plan"
   ]
  },
  {
   "cell_type": "code",
   "execution_count": 1,
   "metadata": {},
   "outputs": [
    {
     "data": {
      "text/markdown": [
       "# Availability [2022-03-22 to 2022-03-27]\n",
       "\n",
       "|time|monday|tuesday|wednesday|thursday|friday|\n",
       "|-|-|-|-|-|-|\n",
       "|08:00|Drake, Anna, Gustav, Vernita||Drake, Anna, Gustav, Vernita|||\n",
       "|09:00|Drake, Anna, Gustav, Vernita|||||\n",
       "|10:00|Drake, Anna, Gustav, Vernita||Drake, Anna, Gustav, Vernita|||\n",
       "|11:00|Drake, Anna, Gustav, Vernita|||||\n",
       "|12:00|Drake, Anna, Gustav, Vernita|||||\n",
       "|13:00|Drake, Anna, Gustav, Vernita|||||\n",
       "|14:00|Drake, Anna, Gustav, Vernita|||Drake, Anna, Gustav, Vernita||\n",
       "|15:00|Drake, Anna, Gustav, Vernita|||||\n",
       "|16:00|Drake, Anna, Gustav, Vernita|||||\n",
       "|17:00|Drake, Anna, Gustav, Vernita|Drake, Anna, Gustav, Vernita||||\n",
       "|18:00|Drake, Anna, Gustav, Vernita|||||\n",
       "|19:00|Drake, Anna, Gustav, Vernita|||||\n",
       "|20:00|Drake, Anna, Gustav, Vernita|||||\n"
      ],
      "text/plain": [
       "<IPython.core.display.Markdown object>"
      ]
     },
     "execution_count": 1,
     "metadata": {},
     "output_type": "execute_result"
    }
   ],
   "source": [
    "\n",
    "from scripts.WhenIsGood import WhenIsGood\n",
    "wig = WhenIsGood(\"[2022-03-22 to 2022-03-27]\")\n",
    "\n",
    "# drake\n",
    "drake = \"Drake\"\n",
    "wig.monday(drake, [8, 9, 10, 11, 12, 13, 14, 15, 16, 17, 18, 19, 20])\n",
    "wig.tuesday(drake, [17])\n",
    "wig.wednesday(drake, [8, 10])\n",
    "wig.thursday(drake, [14])\n",
    "wig.friday(drake, [])\n",
    "\n",
    "# anna\n",
    "anna = \"Anna\"\n",
    "wig.monday(anna, [8, 9, 10, 11, 12, 13, 14, 15, 16, 17, 18, 19, 20])\n",
    "wig.tuesday(anna, [17])\n",
    "wig.wednesday(anna, [8, 10])\n",
    "wig.thursday(anna, [14])\n",
    "wig.friday(anna, [])\n",
    "\n",
    "# gustav\n",
    "gustav = \"Gustav\"\n",
    "wig.monday(gustav, [8, 9, 10, 11, 12, 13, 14, 15, 16, 17, 18, 19, 20])\n",
    "wig.tuesday(gustav, [17])\n",
    "wig.wednesday(gustav, [8, 10])\n",
    "wig.thursday(gustav, [14])\n",
    "wig.friday(gustav, [])\n",
    "\n",
    "# vernita\n",
    "vernita = \"Vernita\"\n",
    "wig.monday(vernita, [8, 9, 10, 11, 12, 13, 14, 15, 16, 17, 18, 19, 20])\n",
    "wig.tuesday(vernita, [17])\n",
    "wig.wednesday(vernita, [8, 10])\n",
    "wig.thursday(vernita, [14])\n",
    "wig.friday(vernita, [])\n",
    "\n",
    "wig.render()"
   ]
  },
  {
   "cell_type": "markdown",
   "metadata": {},
   "source": [
    "## Agenda\n",
    "\n",
    "- item\n",
    "- item\n",
    "- item"
   ]
  }
 ],
 "metadata": {
  "interpreter": {
   "hash": "e7370f93d1d0cde622a1f8e1c04877d8463912d04d973331ad4851f04de6915a"
  },
  "kernelspec": {
   "display_name": "Python 3.10.2 64-bit",
   "language": "python",
   "name": "python3"
  },
  "language_info": {
   "codemirror_mode": {
    "name": "ipython",
    "version": 3
   },
   "file_extension": ".py",
   "mimetype": "text/x-python",
   "name": "python",
   "nbconvert_exporter": "python",
   "pygments_lexer": "ipython3",
   "version": "3.10.2"
  },
  "orig_nbformat": 4
 },
 "nbformat": 4,
 "nbformat_minor": 2
}
